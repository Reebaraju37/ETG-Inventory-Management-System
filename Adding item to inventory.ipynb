{
 "cells": [
  {
   "cell_type": "markdown",
   "id": "562e206b",
   "metadata": {},
   "source": [
    "## Adding items to inventory"
   ]
  },
  {
   "cell_type": "code",
   "execution_count": 1,
   "id": "9c645337",
   "metadata": {},
   "outputs": [
    {
     "name": "stdout",
     "output_type": "stream",
     "text": [
      "Enter the number of enteries : 1\n",
      "Enter the Product id: 1034\n",
      "Enter the Product name: LED Light\n",
      "Enter the Quantity of the product: 50\n",
      "Enter the Price of product:  35\n",
      "Enter the manufacturing date in DD-MM-YYYY: 23-05-2021\n",
      "New item is added to Inventory\n"
     ]
    }
   ],
   "source": [
    "import json\n",
    "\n",
    "fp = open(\"record.json\",\"r\")\n",
    "r = fp.read()\n",
    "fp.close()\n",
    "\n",
    "record = json.loads(r)\n",
    "\n",
    "\n",
    "enteries = int(input(\"Enter the number of enteries : \"))\n",
    "\n",
    "for i in range(enteries):\n",
    "    prod_id = input(\"Enter the Product id: \")\n",
    "    prod_name = input(\"Enter the Product name: \")\n",
    "    prod_qn = int(input(\"Enter the Quantity of the product: \"))\n",
    "    prod_pr = int(input(\"Enter the Price of product:  \"))\n",
    "    prod_mufdate = input(\"Enter the manufacturing date in DD-MM-YYYY: \")\n",
    "    \n",
    "    print(\"New item is added to Inventory\")\n",
    "    \n",
    "    record[prod_id] = {'name':prod_name, 'pr':prod_pr, 'qn':prod_qn, 'mufdate':prod_mufdate}\n",
    "    \n",
    "    \n",
    "js = json.dumps(record)\n",
    "\n",
    "fp = open(\"record.json\",\"w\")\n",
    "fp.write(js)\n",
    "fp.close()"
   ]
  },
  {
   "cell_type": "code",
   "execution_count": 5,
   "id": "6b1001e5",
   "metadata": {},
   "outputs": [
    {
     "data": {
      "text/plain": [
       "{'1001': {'name': 'Choco cake', 'pr': 100, 'qn': 40, 'mufdate': '12-09-2021'},\n",
       " '1002': {'name': 'Milk Cake', 'pr': 800, 'qn': 90, 'mufdate': '18-03-2021'},\n",
       " '1003': {'name': 'Drink', 'pr': 85, 'qn': 98, 'mufdate': '12-10-2021'},\n",
       " '1004': {'name': 'Candy', 'pr': 5, 'qn': 992, 'mufdate': '22-02-2021'},\n",
       " '1005': {'name': 'Pen', 'pr': 20, 'qn': 95, 'mufdate': '03-09-2020'},\n",
       " '1006': {'name': 'Phone', 'pr': 50000, 'qn': 3, 'mufdate': '17-05-2021'},\n",
       " '1007': {'name': 'Mic', 'pr': 1500, 'qn': 19, 'mufdate': '25-07-2019'},\n",
       " '1008': {'name': 'Case', 'pr': '599', 'qn': 10, 'mufdate': '28-08-2018'},\n",
       " '1009': {'name': 'Keyboard', 'pr': 1999, 'qn': 9, 'mufdate': '15-08-2019'},\n",
       " '1010': {'name': 'Pencil', 'pr': 10, 'qn': 58, 'mufdate': '12-09-2021'},\n",
       " '1011': {'name': 'acer Laptop',\n",
       "  'pr': 55000,\n",
       "  'qn': 39,\n",
       "  'mufdate': '23-09-2020'},\n",
       " '1012': {'name': 'Body Lotion', 'pr': 285, 'qn': 85, 'mufdate': '12-10-2020'},\n",
       " '1013': {'name': 'Clock', 'pr': 45, 'qn': 58, 'mufdate': '17-05-2019'},\n",
       " '1014': {'name': 'Door Mat', 'pr': 55, 'qn': 18, 'mufdate': '23-06-2021'},\n",
       " '1015': {'name': 'Notebook', 'pr': 15, 'qn': 120, 'mufdate': '04-06-2019'},\n",
       " '1016': {'name': '5star Chocolates',\n",
       "  'pr': 10,\n",
       "  'qn': 43,\n",
       "  'mufdate': '15-07-2021'},\n",
       " '1017': {'name': 'Munch', 'pr': 10, 'qn': 72, 'mufdate': '04-05-2021'},\n",
       " '1018': {'name': 'Samsung galaxy mobile',\n",
       "  'pr': 17000,\n",
       "  'qn': 40,\n",
       "  'mufdate': '01-04-2020'},\n",
       " '1019': {'name': 'Apple iphone6',\n",
       "  'pr': 45000,\n",
       "  'qn': 14,\n",
       "  'mufdate': '18-09-2019'},\n",
       " '1020': {'name': 'Mointor', 'pr': 55, 'qn': 23, 'mufdate': '27-10-2020'},\n",
       " '1021': {'name': 'Pencil case', 'pr': 25, 'qn': 59, 'mufdate': '03-11-2018'},\n",
       " '1022': {'name': 'Single line paper',\n",
       "  'pr': 22,\n",
       "  'qn': 88,\n",
       "  'mufdate': '14-03-2018'},\n",
       " '1023': {'name': 'Mobile charger',\n",
       "  'pr': 100,\n",
       "  'qn': 10,\n",
       "  'mufdate': '13-07-2019'},\n",
       " '1024': {'name': 'Towels', 'pr': 155, 'qn': 4, 'mufdate': '14-07-2017'},\n",
       " '1025': {'name': 'Dettol Sanitizer',\n",
       "  'pr': 30,\n",
       "  'qn': 50,\n",
       "  'mufdate': '01-01-2021'},\n",
       " '1026': {'name': 'Face Mask', 'pr': 55, 'qn': 10, 'mufdate': '01-03-2021'},\n",
       " '1027': {'name': 'asus Laptop',\n",
       "  'pr': 45000,\n",
       "  'qn': 10,\n",
       "  'mufdate': '08-06-2019'},\n",
       " '1028': {'name': 'Soap', 'pr': 30, 'qn': 25, 'mufdate': '12-04-2020'},\n",
       " '1029': {'name': '50', 'pr': 60, 'qn': 20, 'mufdate': '11-03-2019'},\n",
       " '1030': {'name': 'Drawing Book', 'pr': 10, 'qn': 30, 'mufdate': '12-01-2018'},\n",
       " '1031': {'name': 'Vaseline', 'pr': 55, 'qn': 5, 'mufdate': '11-04-2019'},\n",
       " '1032': {'name': 'Fan', 'pr': 455, 'qn': 20, 'mufdate': '24-07-2019'},\n",
       " '1033': {'name': 'Table', 'pr': 99, 'qn': 40, 'mufdate': '16-03-2019'},\n",
       " '1034': {'name': 'LED Light', 'pr': 35, 'qn': 50, 'mufdate': '23-05-2021'}}"
      ]
     },
     "execution_count": 5,
     "metadata": {},
     "output_type": "execute_result"
    }
   ],
   "source": [
    "record"
   ]
  },
  {
   "cell_type": "code",
   "execution_count": null,
   "id": "62977692",
   "metadata": {},
   "outputs": [],
   "source": []
  }
 ],
 "metadata": {
  "kernelspec": {
   "display_name": "Python 3",
   "language": "python",
   "name": "python3"
  },
  "language_info": {
   "codemirror_mode": {
    "name": "ipython",
    "version": 3
   },
   "file_extension": ".py",
   "mimetype": "text/x-python",
   "name": "python",
   "nbconvert_exporter": "python",
   "pygments_lexer": "ipython3",
   "version": "3.8.8"
  }
 },
 "nbformat": 4,
 "nbformat_minor": 5
}
